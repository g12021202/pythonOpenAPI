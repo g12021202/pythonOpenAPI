{
 "cells": [
  {
   "cell_type": "markdown",
   "metadata": {},
   "source": [
    "tuple"
   ]
  },
  {
   "cell_type": "code",
   "execution_count": 1,
   "metadata": {},
   "outputs": [
    {
     "data": {
      "text/plain": [
       "(1, 3, 5)"
      ]
     },
     "execution_count": 1,
     "metadata": {},
     "output_type": "execute_result"
    }
   ],
   "source": [
    "#tuple 使用符號建立\n",
    "(1,3,5)"
   ]
  },
  {
   "cell_type": "code",
   "execution_count": 2,
   "metadata": {},
   "outputs": [
    {
     "data": {
      "text/plain": [
       "(1, 3, 5)"
      ]
     },
     "execution_count": 2,
     "metadata": {},
     "output_type": "execute_result"
    }
   ],
   "source": [
    "#簡寫的tuple\n",
    "1,3,5"
   ]
  },
  {
   "cell_type": "code",
   "execution_count": 4,
   "metadata": {},
   "outputs": [
    {
     "data": {
      "text/plain": [
       "1"
      ]
     },
     "metadata": {},
     "output_type": "display_data"
    },
    {
     "data": {
      "text/plain": [
       "3"
      ]
     },
     "metadata": {},
     "output_type": "display_data"
    },
    {
     "data": {
      "text/plain": [
       "5"
      ]
     },
     "metadata": {},
     "output_type": "display_data"
    }
   ],
   "source": [
    "#tuple拆解法\n",
    "n1,n2,n3= (1,3,5)\n",
    "display(n1)\n",
    "display(n2)\n",
    "display(n3)"
   ]
  },
  {
   "cell_type": "markdown",
   "metadata": {},
   "source": [
    "list"
   ]
  },
  {
   "cell_type": "code",
   "execution_count": 6,
   "metadata": {},
   "outputs": [
    {
     "data": {
      "text/plain": [
       "1"
      ]
     },
     "metadata": {},
     "output_type": "display_data"
    },
    {
     "data": {
      "text/plain": [
       "'a'"
      ]
     },
     "metadata": {},
     "output_type": "display_data"
    },
    {
     "data": {
      "text/plain": [
       "0.44"
      ]
     },
     "metadata": {},
     "output_type": "display_data"
    },
    {
     "name": "stdout",
     "output_type": "stream",
     "text": [
      "['a', 0.44]\n"
     ]
    }
   ],
   "source": [
    "#建立list\n",
    "list1 = [1, 'a', 0.44]\n",
    "# Subscripts in Lists\n",
    "display(list1[0])\n",
    "display(list1[1])\n",
    "display(list1[2])\n",
    "# list 內的資料可以進行增加、更新與移除\n",
    "del list1[0] # list 可以隨時修改\n",
    "print(list1)"
   ]
  },
  {
   "cell_type": "code",
   "execution_count": 15,
   "metadata": {},
   "outputs": [
    {
     "name": "stdout",
     "output_type": "stream",
     "text": [
      "3科的成績是:70, 80, 90\n"
     ]
    }
   ],
   "source": [
    "'''\n",
    "#建立一個包含3個元素的整數陣列並設定初始值，代表個人的三科成績，再依序顯示各科成績。\n",
    "\n",
    "顯示:\n",
    "3科的成績是:70, 80, 90\n",
    "'''\n",
    "\n",
    "\n",
    "scores = (70, 80, 90)\n",
    "print(\"3科的成績是:%d, %d, %d\" % (scores[0], scores[1], scores[2]))"
   ]
  },
  {
   "cell_type": "markdown",
   "metadata": {},
   "source": [
    "list 練習題\n",
    "\n",
    "建立一個包含五個元素的整數陣列，讓使用者輸入五位學生的成績，然後計算班級總成績及平均成績\n",
    "請輸入第1位學的成績78\n",
    "請輸入第2位學的成績89\n",
    "請輸入第3位學的成績67\n",
    "請輸入第4位學的成績90\n",
    "請輸入第5位學的成績89\n",
    "全班總成績為:413分,平均為82.6分"
   ]
  },
  {
   "cell_type": "code",
   "execution_count": 13,
   "metadata": {},
   "outputs": [
    {
     "name": "stdout",
     "output_type": "stream",
     "text": [
      "全班總成績為:400.0分，平均為:80.0分\n"
     ]
    }
   ],
   "source": [
    "score1 = float(input(\"請輸入第1位學生的成績\"))\n",
    "score2 = float(input(\"請輸入第2位學生的成績\"))\n",
    "score3 = float(input(\"請輸入第3位學生的成績\"))\n",
    "score4 = float(input(\"請輸入第4位學生的成績\"))\n",
    "score5 = float(input(\"請輸入第5位學生的成績\"))\n",
    "scores_list = [score1, score2, score3, score4, score5]\n",
    "scores_sum = scores_list[0] + scores_list[1] + scores_list[2] + scores_list[3] + scores_list[4]\n",
    "scores_avg = scores_sum / 5\n",
    "print(f\"全班總成績為:{scores_sum}分，平均為:{scores_avg}分\")"
   ]
  },
  {
   "cell_type": "code",
   "execution_count": null,
   "metadata": {},
   "outputs": [],
   "source": [
    "# 老師解答 \n",
    "nums = 5\n",
    "scores = []\n",
    "sum = 0\n",
    "for i in range(5):\n",
    "    i += 1\n",
    "    print(\"請輸入第{0:d}位學生的資料:\".format(i))\n",
    "    scores.append(int(input()))\n",
    "\n",
    "for score in scores:\n",
    "    sum += score;\n",
    "\n",
    "ave = sum / nums\n",
    "print(\"全班總成績為:{0:d}分,平均為{1:.2f}分\".format(sum, ave))"
   ]
  },
  {
   "cell_type": "code",
   "execution_count": 17,
   "metadata": {},
   "outputs": [
    {
     "name": "stdout",
     "output_type": "stream",
     "text": [
      "請輸入第1位學生的成績\n",
      "請輸入第2位學生的成績\n",
      "請輸入第3位學生的成績\n",
      "請輸入第4位學生的成績\n",
      "請輸入第5位學生的成績\n",
      "全班總成績為:80.00, 平均為80.00分\n"
     ]
    }
   ],
   "source": [
    "# 根據 老師解答 ， 自己 照做\n",
    "numbers = 5\n",
    "scores = []\n",
    "sum = 0\n",
    "for i in range(numbers):\n",
    "    i += 1\n",
    "    print(\"請輸入第{0:d}位學生的成績\".format(i))\n",
    "    scores.append(float(input()))\n",
    "\n",
    "for score in scores:\n",
    "    sum += score\n",
    "\n",
    "avg = sum / numbers\n",
    "print(\"全班總成績為:{1:.2f}, 平均為{1:.2f}分\".format(sum, avg))"
   ]
  },
  {
   "cell_type": "markdown",
   "metadata": {},
   "source": [
    "list 練習題\n",
    "\n",
    "#小英是百貨公司結帳員,請您為她設計一個程式，先輸入客戶購買的貨品件數，再依此件數宣告陣列來儲存貨品價格，最後計算全部貨品總價\n",
    "\n",
    "顯示=======\n",
    "請輸入購買貨品件數:4\n",
    "請輸入第1件貨品的價格:xxx\n",
    "請輸入第2件貨品的價格:xxx\n",
    "請輸入第3件貨品的價格:xxx\n",
    "請輸入第4件貨品的價格:xxx\n",
    "全部貨品總價為:xxxxx元"
   ]
  },
  {
   "cell_type": "code",
   "execution_count": 20,
   "metadata": {},
   "outputs": [
    {
     "name": "stdout",
     "output_type": "stream",
     "text": [
      "請輸入購買貨品件數:3\n",
      "請輸入第1件貨品的價格:\n",
      "請輸入第2件貨品的價格:\n",
      "請輸入第3件貨品的價格:\n",
      "全部貨品總價為:270\n"
     ]
    }
   ],
   "source": [
    "numbers = int(input(\"請輸入購買貨品件數\"))\n",
    "print(\"請輸入購買貨品件數:{0:d}\".format(numbers))\n",
    "prices = []\n",
    "sum = 0\n",
    "\n",
    "for i in range(numbers):\n",
    "    i += 1\n",
    "    print(\"請輸入第{0:d}件貨品的價格:\".format(i))\n",
    "    prices.append(int(input()))\n",
    "\n",
    "for price in prices:\n",
    "    sum += price\n",
    "\n",
    "print(\"全部貨品總價為:{0:}\".format(sum))"
   ]
  },
  {
   "cell_type": "code",
   "execution_count": null,
   "metadata": {},
   "outputs": [],
   "source": [
    "# 老師解答 \n",
    "if __name__ == '__main__':\n",
    "    nums = int(input(\"請輸入購買貨品件數:\"))\n",
    "    products = list()\n",
    "    num = 1\n",
    "    sum = 0\n",
    "    while(num <= nums):\n",
    "        score = int(input(\"請輸入第{:d}件貨品的價格\".format(num)))\n",
    "        products.append(score)\n",
    "        sum += score\n",
    "        num += 1\n",
    "\n",
    "    print(\"全部貨品總價為:{:d}元\".format(sum))"
   ]
  },
  {
   "cell_type": "markdown",
   "metadata": {},
   "source": [
    "dictionary"
   ]
  },
  {
   "cell_type": "code",
   "execution_count": 9,
   "metadata": {},
   "outputs": [
    {
     "data": {
      "text/plain": [
       "'Taiwan'"
      ]
     },
     "metadata": {},
     "output_type": "display_data"
    },
    {
     "data": {
      "text/plain": [
       "'Japan'"
      ]
     },
     "metadata": {},
     "output_type": "display_data"
    }
   ],
   "source": [
    "#建立dictionary\n",
    "codes = {'tw':'Taiwan', 'jp':'Japan'}\n",
    "display(codes['tw'])\n",
    "display(codes['jp'])"
   ]
  },
  {
   "cell_type": "markdown",
   "metadata": {},
   "source": [
    "set"
   ]
  },
  {
   "cell_type": "code",
   "execution_count": 10,
   "metadata": {},
   "outputs": [
    {
     "data": {
      "text/plain": [
       "{1, 2, 3, 4, 5, 6}"
      ]
     },
     "execution_count": 10,
     "metadata": {},
     "output_type": "execute_result"
    }
   ],
   "source": [
    "set1 = {1,2,3,1,2,3,4,5,6}\n",
    "set1"
   ]
  },
  {
   "cell_type": "markdown",
   "metadata": {},
   "source": [
    "#============================================================================\n",
    "#Name        : biglottery.py\n",
    "#撰寫一個大樂透電腦自動選號程式，程式執行會以亂數的方式顯示1-49之間七個不重複的大樂透號碼。\n",
    "\n",
    "#============================================================\n",
    "\n",
    "本期大樂透電腦選號號碼如下:\n",
    "\n",
    "2 28 8 42 49 20 15\n",
    "\n",
    "特別號:15"
   ]
  },
  {
   "cell_type": "code",
   "execution_count": null,
   "metadata": {},
   "outputs": [],
   "source": []
  }
 ],
 "metadata": {
  "kernelspec": {
   "display_name": ".venv",
   "language": "python",
   "name": "python3"
  },
  "language_info": {
   "codemirror_mode": {
    "name": "ipython",
    "version": 3
   },
   "file_extension": ".py",
   "mimetype": "text/x-python",
   "name": "python",
   "nbconvert_exporter": "python",
   "pygments_lexer": "ipython3",
   "version": "3.11.5"
  }
 },
 "nbformat": 4,
 "nbformat_minor": 2
}
