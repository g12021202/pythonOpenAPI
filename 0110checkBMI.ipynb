{
 "cells": [
  {
   "cell_type": "markdown",
   "metadata": {},
   "source": [
    "提示:\n",
    "請輸入身高(公分):\n",
    "請輸入體重(公斤):\n",
    "\n",
    "您的BMI:xxxxx"
   ]
  },
  {
   "cell_type": "code",
   "execution_count": null,
   "metadata": {},
   "outputs": [],
   "source": [
    "height = float(input(\"請輸入身高(公分):\"))\n",
    "weight = float(input(\"請輸入體重(公斤):\"))\n",
    "BMI = weight / ((height/100) ** 2)\n",
    "print(\"您的BMI:\", BMI)\n",
    "# print(f\"您的BMI:{BMI}\")"
   ]
  },
  {
   "cell_type": "markdown",
   "metadata": {},
   "source": [
    "您的BMI:xxxxx\n",
    "您的BMI正常"
   ]
  },
  {
   "cell_type": "code",
   "execution_count": 3,
   "metadata": {},
   "outputs": [
    {
     "name": "stdout",
     "output_type": "stream",
     "text": [
      "您的BMI: 25.0\n",
      "異常範圍: 過重\n"
     ]
    }
   ],
   "source": [
    "height = float(input(\"請輸入身高(公分):\"))\n",
    "weight = float(input(\"請輸入體重(公斤):\"))\n",
    "BMI = weight / ((height/100) ** 2)\n",
    "print(\"您的BMI:\", BMI)\n",
    "if BMI < 18.5 and BMI > 0:\n",
    "    print(\"體重過輕\")\n",
    "else:\n",
    "    if BMI <= 18.5 and BMI < 24:\n",
    "        print(\"體重在正常範圍\")\n",
    "    else:\n",
    "        if BMI >= 24 and BMI < 27:\n",
    "            print(\"異常範圍: 過重\")\n",
    "        else:\n",
    "            if BMI >= 27 and BMI < 30:\n",
    "                print(\"異常範圍: 輕度肥胖\")\n",
    "            else:\n",
    "                if BMI >= 30 and BMI < 35:\n",
    "                    print(\"異常範圍: 中度肥胖\")\n",
    "                else:\n",
    "                    if BMI >= 35:\n",
    "                        print(\"異常範圍: 重度肥胖\")\n",
    "                    else:\n",
    "                        print(\"輸入錯誤\")"
   ]
  },
  {
   "cell_type": "code",
   "execution_count": 11,
   "metadata": {},
   "outputs": [
    {
     "name": "stdout",
     "output_type": "stream",
     "text": [
      "您的BMI: 0.0\n",
      "輸入錯誤\n"
     ]
    }
   ],
   "source": [
    "try:\n",
    "    height = float(input(\"請輸入身高(公分):\"))\n",
    "    weight = float(input(\"請輸入體重(公斤):\"))\n",
    "    BMI = weight / ((height/100) ** 2)\n",
    "    print(\"您的BMI:\", BMI)\n",
    "    if BMI < 18.5 and BMI > 0:\n",
    "        print(\"體重過輕\")\n",
    "        if BMI >= 18.5 and BMI < 24:\n",
    "            print(\"體重在正常範圍\")\n",
    "            if BMI >= 24 and BMI < 27:\n",
    "                print(\"異常範圍: 過重\")\n",
    "                if BMI >= 27 and BMI < 30:\n",
    "                    print(\"異常範圍: 輕度肥胖\")\n",
    "                    if BMI >= 30 and BMI < 35:\n",
    "                        print(\"異常範圍: 中度肥胖\")\n",
    "                        if BMI >= 35:\n",
    "                            print(\"異常範圍: 重度肥胖\")\n",
    "    else:\n",
    "        print(\"輸入錯誤\")\n",
    "except:\n",
    "    print(\"輸入錯誤~~\")"
   ]
  }
 ],
 "metadata": {
  "kernelspec": {
   "display_name": ".venv",
   "language": "python",
   "name": "python3"
  },
  "language_info": {
   "codemirror_mode": {
    "name": "ipython",
    "version": 3
   },
   "file_extension": ".py",
   "mimetype": "text/x-python",
   "name": "python",
   "nbconvert_exporter": "python",
   "pygments_lexer": "ipython3",
   "version": "3.11.5"
  }
 },
 "nbformat": 4,
 "nbformat_minor": 2
}
