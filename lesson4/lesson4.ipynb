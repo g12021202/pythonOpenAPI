{
 "cells": [
  {
   "cell_type": "code",
   "execution_count": 1,
   "metadata": {},
   "outputs": [
    {
     "name": "stdout",
     "output_type": "stream",
     "text": [
      "True\n",
      "True\n",
      "False\n"
     ]
    }
   ],
   "source": [
    "print(5>3)\n",
    "print(5==5)\n",
    "print(5!=5)"
   ]
  },
  {
   "cell_type": "code",
   "execution_count": 4,
   "metadata": {},
   "outputs": [
    {
     "name": "stdout",
     "output_type": "stream",
     "text": [
      "不可以投票\n"
     ]
    }
   ],
   "source": [
    "age = int(input(\"Please enter age: \"))\n",
    "if age >= 18:\n",
    "    print(\"可以投票\")\n",
    "else:\n",
    "    print(\"不可以投票\")"
   ]
  },
  {
   "cell_type": "code",
   "execution_count": 16,
   "metadata": {},
   "outputs": [
    {
     "name": "stdout",
     "output_type": "stream",
     "text": [
      "學生原始成績250\n",
      "學生符合加分條件，262\n"
     ]
    }
   ],
   "source": [
    "score = int(input(\"輸入學生成績，最高300分\"))\n",
    "print(f\"學生原始成績{score}\")\n",
    "is_add = input(\"學生是否符合加分條件\")\n",
    "if score <= 300:\n",
    "    if (is_add == \"y\") :\n",
    "        score *= 1.05 \n",
    "        if score > 300:\n",
    "            score = 300\n",
    "            print(f\"學生分數為{round(score)}分\")\n",
    "        else:\n",
    "            print(f\"學生符合加分條件，{round(score)}分\")\n",
    "    else:\n",
    "        print(f\"學生不符合加分條件，還是{score}分\")\n",
    "else:\n",
    "    print(\"輸入錯誤\")"
   ]
  }
 ],
 "metadata": {
  "kernelspec": {
   "display_name": ".venv",
   "language": "python",
   "name": "python3"
  },
  "language_info": {
   "codemirror_mode": {
    "name": "ipython",
    "version": 3
   },
   "file_extension": ".py",
   "mimetype": "text/x-python",
   "name": "python",
   "nbconvert_exporter": "python",
   "pygments_lexer": "ipython3",
   "version": "3.11.5"
  }
 },
 "nbformat": 4,
 "nbformat_minor": 2
}
