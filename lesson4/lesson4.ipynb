{
 "cells": [
  {
   "cell_type": "code",
   "execution_count": 1,
   "metadata": {},
   "outputs": [
    {
     "name": "stdout",
     "output_type": "stream",
     "text": [
      "True\n",
      "True\n",
      "False\n"
     ]
    }
   ],
   "source": [
    "print(5>3)\n",
    "print(5==5)\n",
    "print(5!=5)"
   ]
  },
  {
   "cell_type": "code",
   "execution_count": 4,
   "metadata": {},
   "outputs": [
    {
     "name": "stdout",
     "output_type": "stream",
     "text": [
      "不可以投票\n"
     ]
    }
   ],
   "source": [
    "age = int(input(\"Please enter age: \"))\n",
    "if age >= 18:\n",
    "    print(\"可以投票\")\n",
    "else:\n",
    "    print(\"不可以投票\")"
   ]
  },
  {
   "cell_type": "code",
   "execution_count": 26,
   "metadata": {},
   "outputs": [
    {
     "name": "stdout",
     "output_type": "stream",
     "text": [
      "學生原始成績-1\n",
      "輸入錯誤\n"
     ]
    }
   ],
   "source": [
    "#學生總分為300\n",
    "#檢查必需300分以內,0分以上\n",
    "#有些學生可以加分5%\n",
    "#如果加分超過300,就以300分為準\n",
    "score = int(input(\"輸入學生成績，最高300分\"))\n",
    "print(f\"學生原始成績{score}\")\n",
    "if (score <= 300) and (score >= 0):\n",
    "    is_add = input(\"學生是否符合加分條件\")\n",
    "    if (is_add == \"y\") :\n",
    "        score *= 1.05 \n",
    "        if score > 300:\n",
    "            score = 300\n",
    "            print(f\"學生分數為{round(score)}分\")\n",
    "        else:\n",
    "            print(f\"學生符合加分條件，{round(score)}分\")\n",
    "    else:\n",
    "        print(f\"學生不符合加分條件，還是{score}分\")\n",
    "else:\n",
    "    print(\"輸入錯誤\")"
   ]
  },
  {
   "cell_type": "code",
   "execution_count": 19,
   "metadata": {},
   "outputs": [
    {
     "name": "stdout",
     "output_type": "stream",
     "text": [
      "成功\n"
     ]
    }
   ],
   "source": [
    "distance = float(input(\"請輸入投擲距離\"))\n",
    "if distance >= 80:\n",
    "    if distance <= 100:\n",
    "        print(\"成功\")\n",
    "    else:\n",
    "        print(\"失敗\")\n",
    "else:\n",
    "    print(\"失敗\")"
   ]
  },
  {
   "cell_type": "code",
   "execution_count": 23,
   "metadata": {},
   "outputs": [
    {
     "name": "stdout",
     "output_type": "stream",
     "text": [
      "失敗\n"
     ]
    }
   ],
   "source": [
    "distance = float(input(\"請輸入投擲距離\"))\n",
    "if (distance >= 80) and (distance <= 100):\n",
    "    print(\"成功\")\n",
    "else:\n",
    "    print(\"失敗\")"
   ]
  },
  {
   "cell_type": "code",
   "execution_count": 33,
   "metadata": {},
   "outputs": [
    {
     "name": "stdout",
     "output_type": "stream",
     "text": [
      "Hi\n",
      "沒有發生錯誤\n",
      "程式結束\n"
     ]
    }
   ],
   "source": [
    "try:\n",
    "    # 2 / 0\n",
    "    print(\"Hi\")\n",
    "except:\n",
    "    print(\"錯誤發生\")\n",
    "else:\n",
    "    print(\"沒有發生錯誤\")\n",
    "print(\"程式結束\")"
   ]
  },
  {
   "cell_type": "code",
   "execution_count": 28,
   "metadata": {},
   "outputs": [
    {
     "name": "stdout",
     "output_type": "stream",
     "text": [
      "錯誤發生\n"
     ]
    }
   ],
   "source": [
    "try:\n",
    "    raise RuntimeError(\"發生錯誤\")\n",
    "except:\n",
    "    print(\"錯誤發生\")"
   ]
  },
  {
   "cell_type": "code",
   "execution_count": 37,
   "metadata": {},
   "outputs": [
    {
     "name": "stdout",
     "output_type": "stream",
     "text": [
      "A\n",
      "B\n",
      "C\n"
     ]
    }
   ],
   "source": [
    "class A(Exception):\n",
    "    pass\n",
    "\n",
    "class B(A):\n",
    "    pass\n",
    "\n",
    "class C(B):\n",
    "    pass\n",
    "\n",
    "for cls in [A, B, C]:\n",
    "    try:\n",
    "        raise cls()\n",
    "    except C:\n",
    "        print(\"C\")\n",
    "    except B:\n",
    "        print(\"B\")\n",
    "    except A:\n",
    "        print(\"A\")    "
   ]
  },
  {
   "cell_type": "code",
   "execution_count": 38,
   "metadata": {},
   "outputs": [
    {
     "name": "stdout",
     "output_type": "stream",
     "text": [
      "A\n",
      "A\n",
      "A\n"
     ]
    }
   ],
   "source": [
    "class A(Exception):\n",
    "    pass\n",
    "\n",
    "class B(A):\n",
    "    pass\n",
    "\n",
    "class C(B):\n",
    "    pass\n",
    "\n",
    "for cls in [A, B, C]:\n",
    "    try:\n",
    "        raise cls()\n",
    "    except A:\n",
    "        print(\"A\")\n",
    "    except B:\n",
    "        print(\"B\")\n",
    "    except C:\n",
    "        print(\"C\")"
   ]
  },
  {
   "cell_type": "markdown",
   "metadata": {},
   "source": [
    "try\n",
    "except"
   ]
  },
  {
   "cell_type": "code",
   "execution_count": 39,
   "metadata": {},
   "outputs": [
    {
     "name": "stdout",
     "output_type": "stream",
     "text": [
      "請輸入數字\n"
     ]
    }
   ],
   "source": [
    "#學生總分為300\n",
    "#檢查必需300分以內,0分以上\n",
    "#有些學生可以加分5%\n",
    "#如果加分超過300,就以300分為準\n",
    "try:\n",
    "    score = int(input(\"輸入學生成績，最高300分\"))\n",
    "    print(f\"學生原始成績{score}\")\n",
    "    if (score <= 300) and (score >= 0):\n",
    "        is_add = input(\"學生是否符合加分條件\")\n",
    "        if (is_add == \"y\") :\n",
    "            score *= 1.05 \n",
    "            if score > 300:\n",
    "                score = 300\n",
    "                print(f\"學生分數為{round(score)}分\")\n",
    "            else:\n",
    "                print(f\"學生符合加分條件，{round(score)}分\")\n",
    "        else:\n",
    "            print(f\"學生不符合加分條件，還是{score}分\")\n",
    "    else:\n",
    "        print(\"輸入錯誤\")\n",
    "except:\n",
    "    print(\"請輸入數字\")"
   ]
  },
  {
   "cell_type": "markdown",
   "metadata": {},
   "source": [
    "For loops"
   ]
  },
  {
   "cell_type": "code",
   "execution_count": 41,
   "metadata": {},
   "outputs": [
    {
     "name": "stdout",
     "output_type": "stream",
     "text": [
      "3825\n"
     ]
    }
   ],
   "source": [
    "n = 0\n",
    "for i in range(50, 101):\n",
    "    n += i\n",
    "print(n)"
   ]
  },
  {
   "cell_type": "code",
   "execution_count": 45,
   "metadata": {},
   "outputs": [
    {
     "name": "stdout",
     "output_type": "stream",
     "text": [
      "9\n"
     ]
    }
   ],
   "source": [
    "sum = 0\n",
    "m = int(input(\"請輸入起始數值\"))\n",
    "n = int(input(\"請輸入結束數值\"))\n",
    "for i in range(m, n+1):\n",
    "    sum += i\n",
    "print(sum)"
   ]
  },
  {
   "cell_type": "markdown",
   "metadata": {},
   "source": [
    "無限迴圈\n",
    "```\n",
    "while True:\n",
    "    print(\"無限迴圈\")\n",
    "```"
   ]
  },
  {
   "cell_type": "code",
   "execution_count": null,
   "metadata": {},
   "outputs": [],
   "source": []
  }
 ],
 "metadata": {
  "kernelspec": {
   "display_name": ".venv",
   "language": "python",
   "name": "python3"
  },
  "language_info": {
   "codemirror_mode": {
    "name": "ipython",
    "version": 3
   },
   "file_extension": ".py",
   "mimetype": "text/x-python",
   "name": "python",
   "nbconvert_exporter": "python",
   "pygments_lexer": "ipython3",
   "version": "3.11.5"
  }
 },
 "nbformat": 4,
 "nbformat_minor": 2
}
