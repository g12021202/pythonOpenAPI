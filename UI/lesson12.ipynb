{
 "cells": [
  {
   "cell_type": "code",
   "execution_count": 1,
   "metadata": {},
   "outputs": [
    {
     "name": "stdout",
     "output_type": "stream",
     "text": [
      "hi\n"
     ]
    }
   ],
   "source": [
    "print(\"hi\")"
   ]
  },
  {
   "cell_type": "code",
   "execution_count": 4,
   "metadata": {},
   "outputs": [
    {
     "name": "stdout",
     "output_type": "stream",
     "text": [
      "下載成功\n",
      "[{'date': '2024-1-24 15:37:12', 'address': 'chicken_KFC', 'temperature': 27.51254, 'light': 24453.0}, {'date': '2024-1-24 15:37:27', 'address': 'chicken_KFC', 'temperature': 27.51254, 'light': 31047.0}, {'date': '2024-1-24 15:37:42', 'address': 'chicken_KFC', 'temperature': 27.51254, 'light': 30407.0}, {'date': '2024-1-24 15:37:53', 'address': 'chicken_KFC', 'temperature': 27.51254, 'light': 26758.0}, {'date': '2024-01-24 11:19:42', 'address': 'school', 'temperature': 20.0, 'light': 30.0}]\n"
     ]
    }
   ],
   "source": [
    "import requests\n",
    "render_url = \"https://openapi-4dco.onrender.com/pico_w/?count=5\"\n",
    "\n",
    "r = requests.get(url=render_url)\n",
    "\n",
    "if r.status_code == 200:\n",
    "    print(\"下載成功\")\n",
    "    data = r.json()\n",
    "\n",
    "print(data)"
   ]
  },
  {
   "cell_type": "code",
   "execution_count": 6,
   "metadata": {},
   "outputs": [
    {
     "name": "stderr",
     "output_type": "stream",
     "text": [
      "C:\\Users\\g1202\\AppData\\Local\\Temp\\ipykernel_6656\\4265374290.py:1: DeprecationWarning: \n",
      "Pyarrow will become a required dependency of pandas in the next major release of pandas (pandas 3.0),\n",
      "(to allow more performant data types, such as the Arrow string type, and better interoperability with other libraries)\n",
      "but was not found to be installed on your system.\n",
      "If this would cause problems for you,\n",
      "please provide us feedback at https://github.com/pandas-dev/pandas/issues/54466\n",
      "        \n",
      "  import pandas as pd\n"
     ]
    },
    {
     "data": {
      "text/html": [
       "<div>\n",
       "<style scoped>\n",
       "    .dataframe tbody tr th:only-of-type {\n",
       "        vertical-align: middle;\n",
       "    }\n",
       "\n",
       "    .dataframe tbody tr th {\n",
       "        vertical-align: top;\n",
       "    }\n",
       "\n",
       "    .dataframe thead th {\n",
       "        text-align: right;\n",
       "    }\n",
       "</style>\n",
       "<table border=\"1\" class=\"dataframe\">\n",
       "  <thead>\n",
       "    <tr style=\"text-align: right;\">\n",
       "      <th></th>\n",
       "      <th>date</th>\n",
       "      <th>address</th>\n",
       "      <th>temperature</th>\n",
       "      <th>light</th>\n",
       "    </tr>\n",
       "  </thead>\n",
       "  <tbody>\n",
       "    <tr>\n",
       "      <th>0</th>\n",
       "      <td>2024-1-24 15:37:12</td>\n",
       "      <td>chicken_KFC</td>\n",
       "      <td>27.51254</td>\n",
       "      <td>24453.0</td>\n",
       "    </tr>\n",
       "    <tr>\n",
       "      <th>1</th>\n",
       "      <td>2024-1-24 15:37:27</td>\n",
       "      <td>chicken_KFC</td>\n",
       "      <td>27.51254</td>\n",
       "      <td>31047.0</td>\n",
       "    </tr>\n",
       "    <tr>\n",
       "      <th>2</th>\n",
       "      <td>2024-1-24 15:37:42</td>\n",
       "      <td>chicken_KFC</td>\n",
       "      <td>27.51254</td>\n",
       "      <td>30407.0</td>\n",
       "    </tr>\n",
       "    <tr>\n",
       "      <th>3</th>\n",
       "      <td>2024-1-24 15:37:53</td>\n",
       "      <td>chicken_KFC</td>\n",
       "      <td>27.51254</td>\n",
       "      <td>26758.0</td>\n",
       "    </tr>\n",
       "    <tr>\n",
       "      <th>4</th>\n",
       "      <td>2024-01-24 11:19:42</td>\n",
       "      <td>school</td>\n",
       "      <td>20.00000</td>\n",
       "      <td>30.0</td>\n",
       "    </tr>\n",
       "  </tbody>\n",
       "</table>\n",
       "</div>"
      ],
      "text/plain": [
       "                  date      address  temperature    light\n",
       "0   2024-1-24 15:37:12  chicken_KFC     27.51254  24453.0\n",
       "1   2024-1-24 15:37:27  chicken_KFC     27.51254  31047.0\n",
       "2   2024-1-24 15:37:42  chicken_KFC     27.51254  30407.0\n",
       "3   2024-1-24 15:37:53  chicken_KFC     27.51254  26758.0\n",
       "4  2024-01-24 11:19:42       school     20.00000     30.0"
      ]
     },
     "execution_count": 6,
     "metadata": {},
     "output_type": "execute_result"
    }
   ],
   "source": [
    "import pandas as pd\n",
    "pd.DataFrame(data)"
   ]
  }
 ],
 "metadata": {
  "kernelspec": {
   "display_name": ".venv",
   "language": "python",
   "name": "python3"
  },
  "language_info": {
   "codemirror_mode": {
    "name": "ipython",
    "version": 3
   },
   "file_extension": ".py",
   "mimetype": "text/x-python",
   "name": "python",
   "nbconvert_exporter": "python",
   "pygments_lexer": "ipython3",
   "version": "3.11.5"
  }
 },
 "nbformat": 4,
 "nbformat_minor": 2
}
