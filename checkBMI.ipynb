{
 "cells": [
  {
   "cell_type": "markdown",
   "metadata": {},
   "source": [
    "提示:\n",
    "請輸入身高(公分):\n",
    "請輸入體重(公斤):\n",
    "\n",
    "您的BMI:xxxxx"
   ]
  },
  {
   "cell_type": "code",
   "execution_count": null,
   "metadata": {},
   "outputs": [],
   "source": [
    "height = int(input(\"請輸入身高(公分):\"))\n",
    "weight = int(input(\"請輸入體重(公斤):\"))\n",
    "BMI = weight / ((height/100) ** 2)\n",
    "print(f\"您的BMI:{BMI}\")"
   ]
  }
 ],
 "metadata": {
  "language_info": {
   "name": "python"
  }
 },
 "nbformat": 4,
 "nbformat_minor": 2
}
